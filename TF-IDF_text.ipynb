{
  "nbformat": 4,
  "nbformat_minor": 0,
  "metadata": {
    "colab": {
      "provenance": []
    },
    "kernelspec": {
      "name": "python3",
      "display_name": "Python 3"
    },
    "language_info": {
      "name": "python"
    }
  },
  "cells": [
    {
      "cell_type": "code",
      "execution_count": 550,
      "metadata": {
        "id": "aMGx6K2t7sUD"
      },
      "outputs": [],
      "source": [
        "import pickle, os\n",
        "import jieba\n",
        "import numpy as np\n",
        "import pandas as pd\n",
        "from collections import defaultdict\n",
        "from matplotlib import pyplot as plt\n",
        "from sklearn.cluster import KMeans\n",
        "from sklearn.feature_extraction.text import CountVectorizer, TfidfTransformer\n",
        "from sklearn.metrics import classification_report\n",
        "from sklearn.metrics import roc_curve, auc\n",
        "import matplotlib.pyplot as plt"
      ]
    },
    {
      "cell_type": "code",
      "source": [
        "# gb18030编码收录的中文字符更全，对中文文档兼容性更好\n",
        "df = pd.read_csv('sqlResult.csv',encoding='gb18030')\n",
        "df.info()\n",
        "df.head(5)"
      ],
      "metadata": {
        "colab": {
          "base_uri": "https://localhost:8080/",
          "height": 407
        },
        "id": "3k5N93o---kT",
        "outputId": "08290450-5484-4844-d628-4c5eb2d1d4fa"
      },
      "execution_count": 551,
      "outputs": [
        {
          "output_type": "stream",
          "name": "stdout",
          "text": [
            "<class 'pandas.core.frame.DataFrame'>\n",
            "RangeIndex: 89611 entries, 0 to 89610\n",
            "Data columns (total 4 columns):\n",
            " #   Column   Non-Null Count  Dtype \n",
            "---  ------   --------------  ----- \n",
            " 0   id       89611 non-null  int64 \n",
            " 1   author   79396 non-null  object\n",
            " 2   source   89609 non-null  object\n",
            " 3   content  87054 non-null  object\n",
            "dtypes: int64(1), object(3)\n",
            "memory usage: 2.7+ MB\n"
          ]
        },
        {
          "output_type": "execute_result",
          "data": {
            "text/plain": [
              "      id      author                  source  \\\n",
              "0  89617         NaN  快科技@http://www.kkj.cn/   \n",
              "1  89616         NaN  快科技@http://www.kkj.cn/   \n",
              "2  89615         NaN  快科技@http://www.kkj.cn/   \n",
              "3  89614         NaN                     新华社   \n",
              "4  89613  胡淑丽_MN7479                   深圳大件事   \n",
              "\n",
              "                                             content  \n",
              "0  此外，自本周（6月12日）起，除小米手机6等15款机型外，其余机型已暂停更新发布（含开发版/...  \n",
              "1  骁龙835作为唯一通过Windows 10桌面平台认证的ARM处理器，高通强调，不会因为只考...  \n",
              "2  此前的一加3T搭载的是3400mAh电池，DashCharge快充规格为5V/4A。\\r\\n...  \n",
              "3    这是6月18日在葡萄牙中部大佩德罗冈地区拍摄的被森林大火烧毁的汽车。新华社记者张立云摄\\r\\n  \n",
              "4  （原标题：44岁女子跑深圳约会网友被拒，暴雨中裸身奔走……）\\r\\n@深圳交警微博称：昨日清...  "
            ],
            "text/html": [
              "\n",
              "  <div id=\"df-49a026b5-ace1-4295-a868-d1085d208e88\" class=\"colab-df-container\">\n",
              "    <div>\n",
              "<style scoped>\n",
              "    .dataframe tbody tr th:only-of-type {\n",
              "        vertical-align: middle;\n",
              "    }\n",
              "\n",
              "    .dataframe tbody tr th {\n",
              "        vertical-align: top;\n",
              "    }\n",
              "\n",
              "    .dataframe thead th {\n",
              "        text-align: right;\n",
              "    }\n",
              "</style>\n",
              "<table border=\"1\" class=\"dataframe\">\n",
              "  <thead>\n",
              "    <tr style=\"text-align: right;\">\n",
              "      <th></th>\n",
              "      <th>id</th>\n",
              "      <th>author</th>\n",
              "      <th>source</th>\n",
              "      <th>content</th>\n",
              "    </tr>\n",
              "  </thead>\n",
              "  <tbody>\n",
              "    <tr>\n",
              "      <th>0</th>\n",
              "      <td>89617</td>\n",
              "      <td>NaN</td>\n",
              "      <td>快科技@http://www.kkj.cn/</td>\n",
              "      <td>此外，自本周（6月12日）起，除小米手机6等15款机型外，其余机型已暂停更新发布（含开发版/...</td>\n",
              "    </tr>\n",
              "    <tr>\n",
              "      <th>1</th>\n",
              "      <td>89616</td>\n",
              "      <td>NaN</td>\n",
              "      <td>快科技@http://www.kkj.cn/</td>\n",
              "      <td>骁龙835作为唯一通过Windows 10桌面平台认证的ARM处理器，高通强调，不会因为只考...</td>\n",
              "    </tr>\n",
              "    <tr>\n",
              "      <th>2</th>\n",
              "      <td>89615</td>\n",
              "      <td>NaN</td>\n",
              "      <td>快科技@http://www.kkj.cn/</td>\n",
              "      <td>此前的一加3T搭载的是3400mAh电池，DashCharge快充规格为5V/4A。\\r\\n...</td>\n",
              "    </tr>\n",
              "    <tr>\n",
              "      <th>3</th>\n",
              "      <td>89614</td>\n",
              "      <td>NaN</td>\n",
              "      <td>新华社</td>\n",
              "      <td>这是6月18日在葡萄牙中部大佩德罗冈地区拍摄的被森林大火烧毁的汽车。新华社记者张立云摄\\r\\n</td>\n",
              "    </tr>\n",
              "    <tr>\n",
              "      <th>4</th>\n",
              "      <td>89613</td>\n",
              "      <td>胡淑丽_MN7479</td>\n",
              "      <td>深圳大件事</td>\n",
              "      <td>（原标题：44岁女子跑深圳约会网友被拒，暴雨中裸身奔走……）\\r\\n@深圳交警微博称：昨日清...</td>\n",
              "    </tr>\n",
              "  </tbody>\n",
              "</table>\n",
              "</div>\n",
              "    <div class=\"colab-df-buttons\">\n",
              "\n",
              "  <div class=\"colab-df-container\">\n",
              "    <button class=\"colab-df-convert\" onclick=\"convertToInteractive('df-49a026b5-ace1-4295-a868-d1085d208e88')\"\n",
              "            title=\"Convert this dataframe to an interactive table.\"\n",
              "            style=\"display:none;\">\n",
              "\n",
              "  <svg xmlns=\"http://www.w3.org/2000/svg\" height=\"24px\" viewBox=\"0 -960 960 960\">\n",
              "    <path d=\"M120-120v-720h720v720H120Zm60-500h600v-160H180v160Zm220 220h160v-160H400v160Zm0 220h160v-160H400v160ZM180-400h160v-160H180v160Zm440 0h160v-160H620v160ZM180-180h160v-160H180v160Zm440 0h160v-160H620v160Z\"/>\n",
              "  </svg>\n",
              "    </button>\n",
              "\n",
              "  <style>\n",
              "    .colab-df-container {\n",
              "      display:flex;\n",
              "      gap: 12px;\n",
              "    }\n",
              "\n",
              "    .colab-df-convert {\n",
              "      background-color: #E8F0FE;\n",
              "      border: none;\n",
              "      border-radius: 50%;\n",
              "      cursor: pointer;\n",
              "      display: none;\n",
              "      fill: #1967D2;\n",
              "      height: 32px;\n",
              "      padding: 0 0 0 0;\n",
              "      width: 32px;\n",
              "    }\n",
              "\n",
              "    .colab-df-convert:hover {\n",
              "      background-color: #E2EBFA;\n",
              "      box-shadow: 0px 1px 2px rgba(60, 64, 67, 0.3), 0px 1px 3px 1px rgba(60, 64, 67, 0.15);\n",
              "      fill: #174EA6;\n",
              "    }\n",
              "\n",
              "    .colab-df-buttons div {\n",
              "      margin-bottom: 4px;\n",
              "    }\n",
              "\n",
              "    [theme=dark] .colab-df-convert {\n",
              "      background-color: #3B4455;\n",
              "      fill: #D2E3FC;\n",
              "    }\n",
              "\n",
              "    [theme=dark] .colab-df-convert:hover {\n",
              "      background-color: #434B5C;\n",
              "      box-shadow: 0px 1px 3px 1px rgba(0, 0, 0, 0.15);\n",
              "      filter: drop-shadow(0px 1px 2px rgba(0, 0, 0, 0.3));\n",
              "      fill: #FFFFFF;\n",
              "    }\n",
              "  </style>\n",
              "\n",
              "    <script>\n",
              "      const buttonEl =\n",
              "        document.querySelector('#df-49a026b5-ace1-4295-a868-d1085d208e88 button.colab-df-convert');\n",
              "      buttonEl.style.display =\n",
              "        google.colab.kernel.accessAllowed ? 'block' : 'none';\n",
              "\n",
              "      async function convertToInteractive(key) {\n",
              "        const element = document.querySelector('#df-49a026b5-ace1-4295-a868-d1085d208e88');\n",
              "        const dataTable =\n",
              "          await google.colab.kernel.invokeFunction('convertToInteractive',\n",
              "                                                    [key], {});\n",
              "        if (!dataTable) return;\n",
              "\n",
              "        const docLinkHtml = 'Like what you see? Visit the ' +\n",
              "          '<a target=\"_blank\" href=https://colab.research.google.com/notebooks/data_table.ipynb>data table notebook</a>'\n",
              "          + ' to learn more about interactive tables.';\n",
              "        element.innerHTML = '';\n",
              "        dataTable['output_type'] = 'display_data';\n",
              "        await google.colab.output.renderOutput(dataTable, element);\n",
              "        const docLink = document.createElement('div');\n",
              "        docLink.innerHTML = docLinkHtml;\n",
              "        element.appendChild(docLink);\n",
              "      }\n",
              "    </script>\n",
              "  </div>\n",
              "\n",
              "\n",
              "<div id=\"df-8ea55c1b-0b35-4ccb-a2c3-bd6926cd43e2\">\n",
              "  <button class=\"colab-df-quickchart\" onclick=\"quickchart('df-8ea55c1b-0b35-4ccb-a2c3-bd6926cd43e2')\"\n",
              "            title=\"Suggest charts\"\n",
              "            style=\"display:none;\">\n",
              "\n",
              "<svg xmlns=\"http://www.w3.org/2000/svg\" height=\"24px\"viewBox=\"0 0 24 24\"\n",
              "     width=\"24px\">\n",
              "    <g>\n",
              "        <path d=\"M19 3H5c-1.1 0-2 .9-2 2v14c0 1.1.9 2 2 2h14c1.1 0 2-.9 2-2V5c0-1.1-.9-2-2-2zM9 17H7v-7h2v7zm4 0h-2V7h2v10zm4 0h-2v-4h2v4z\"/>\n",
              "    </g>\n",
              "</svg>\n",
              "  </button>\n",
              "\n",
              "<style>\n",
              "  .colab-df-quickchart {\n",
              "      --bg-color: #E8F0FE;\n",
              "      --fill-color: #1967D2;\n",
              "      --hover-bg-color: #E2EBFA;\n",
              "      --hover-fill-color: #174EA6;\n",
              "      --disabled-fill-color: #AAA;\n",
              "      --disabled-bg-color: #DDD;\n",
              "  }\n",
              "\n",
              "  [theme=dark] .colab-df-quickchart {\n",
              "      --bg-color: #3B4455;\n",
              "      --fill-color: #D2E3FC;\n",
              "      --hover-bg-color: #434B5C;\n",
              "      --hover-fill-color: #FFFFFF;\n",
              "      --disabled-bg-color: #3B4455;\n",
              "      --disabled-fill-color: #666;\n",
              "  }\n",
              "\n",
              "  .colab-df-quickchart {\n",
              "    background-color: var(--bg-color);\n",
              "    border: none;\n",
              "    border-radius: 50%;\n",
              "    cursor: pointer;\n",
              "    display: none;\n",
              "    fill: var(--fill-color);\n",
              "    height: 32px;\n",
              "    padding: 0;\n",
              "    width: 32px;\n",
              "  }\n",
              "\n",
              "  .colab-df-quickchart:hover {\n",
              "    background-color: var(--hover-bg-color);\n",
              "    box-shadow: 0 1px 2px rgba(60, 64, 67, 0.3), 0 1px 3px 1px rgba(60, 64, 67, 0.15);\n",
              "    fill: var(--button-hover-fill-color);\n",
              "  }\n",
              "\n",
              "  .colab-df-quickchart-complete:disabled,\n",
              "  .colab-df-quickchart-complete:disabled:hover {\n",
              "    background-color: var(--disabled-bg-color);\n",
              "    fill: var(--disabled-fill-color);\n",
              "    box-shadow: none;\n",
              "  }\n",
              "\n",
              "  .colab-df-spinner {\n",
              "    border: 2px solid var(--fill-color);\n",
              "    border-color: transparent;\n",
              "    border-bottom-color: var(--fill-color);\n",
              "    animation:\n",
              "      spin 1s steps(1) infinite;\n",
              "  }\n",
              "\n",
              "  @keyframes spin {\n",
              "    0% {\n",
              "      border-color: transparent;\n",
              "      border-bottom-color: var(--fill-color);\n",
              "      border-left-color: var(--fill-color);\n",
              "    }\n",
              "    20% {\n",
              "      border-color: transparent;\n",
              "      border-left-color: var(--fill-color);\n",
              "      border-top-color: var(--fill-color);\n",
              "    }\n",
              "    30% {\n",
              "      border-color: transparent;\n",
              "      border-left-color: var(--fill-color);\n",
              "      border-top-color: var(--fill-color);\n",
              "      border-right-color: var(--fill-color);\n",
              "    }\n",
              "    40% {\n",
              "      border-color: transparent;\n",
              "      border-right-color: var(--fill-color);\n",
              "      border-top-color: var(--fill-color);\n",
              "    }\n",
              "    60% {\n",
              "      border-color: transparent;\n",
              "      border-right-color: var(--fill-color);\n",
              "    }\n",
              "    80% {\n",
              "      border-color: transparent;\n",
              "      border-right-color: var(--fill-color);\n",
              "      border-bottom-color: var(--fill-color);\n",
              "    }\n",
              "    90% {\n",
              "      border-color: transparent;\n",
              "      border-bottom-color: var(--fill-color);\n",
              "    }\n",
              "  }\n",
              "</style>\n",
              "\n",
              "  <script>\n",
              "    async function quickchart(key) {\n",
              "      const quickchartButtonEl =\n",
              "        document.querySelector('#' + key + ' button');\n",
              "      quickchartButtonEl.disabled = true;  // To prevent multiple clicks.\n",
              "      quickchartButtonEl.classList.add('colab-df-spinner');\n",
              "      try {\n",
              "        const charts = await google.colab.kernel.invokeFunction(\n",
              "            'suggestCharts', [key], {});\n",
              "      } catch (error) {\n",
              "        console.error('Error during call to suggestCharts:', error);\n",
              "      }\n",
              "      quickchartButtonEl.classList.remove('colab-df-spinner');\n",
              "      quickchartButtonEl.classList.add('colab-df-quickchart-complete');\n",
              "    }\n",
              "    (() => {\n",
              "      let quickchartButtonEl =\n",
              "        document.querySelector('#df-8ea55c1b-0b35-4ccb-a2c3-bd6926cd43e2 button');\n",
              "      quickchartButtonEl.style.display =\n",
              "        google.colab.kernel.accessAllowed ? 'block' : 'none';\n",
              "    })();\n",
              "  </script>\n",
              "</div>\n",
              "    </div>\n",
              "  </div>\n"
            ]
          },
          "metadata": {},
          "execution_count": 551
        }
      ]
    },
    {
      "cell_type": "code",
      "source": [
        "with open('cn_stopwords.txt','r',encoding='utf-8') as file:\n",
        "    stopwords = [line[:-1] for line in file.readlines()]\n",
        "stopwords[:20]"
      ],
      "metadata": {
        "colab": {
          "base_uri": "https://localhost:8080/"
        },
        "id": "j6NqLDSHbyVu",
        "outputId": "aee1d6c8-11b4-4bdb-c405-3d9a35b92798"
      },
      "execution_count": 552,
      "outputs": [
        {
          "output_type": "execute_result",
          "data": {
            "text/plain": [
              "['$',\n",
              " '0',\n",
              " '1',\n",
              " '2',\n",
              " '3',\n",
              " '4',\n",
              " '5',\n",
              " '6',\n",
              " '7',\n",
              " '8',\n",
              " '9',\n",
              " '?',\n",
              " '_',\n",
              " '“',\n",
              " '”',\n",
              " '、',\n",
              " '。',\n",
              " '《',\n",
              " '》',\n",
              " '一']"
            ]
          },
          "metadata": {},
          "execution_count": 552
        }
      ]
    },
    {
      "cell_type": "code",
      "source": [
        "df.dropna(subset=['content'],inplace=True)\n",
        "df.dropna(subset=['source'],inplace=True)\n",
        "df.info()"
      ],
      "metadata": {
        "colab": {
          "base_uri": "https://localhost:8080/"
        },
        "id": "Jsho8VCMcmdx",
        "outputId": "30cb8fef-cb66-4af1-d50a-d5fe64802137"
      },
      "execution_count": 553,
      "outputs": [
        {
          "output_type": "stream",
          "name": "stdout",
          "text": [
            "<class 'pandas.core.frame.DataFrame'>\n",
            "Int64Index: 87052 entries, 0 to 89610\n",
            "Data columns (total 4 columns):\n",
            " #   Column   Non-Null Count  Dtype \n",
            "---  ------   --------------  ----- \n",
            " 0   id       87052 non-null  int64 \n",
            " 1   author   76925 non-null  object\n",
            " 2   source   87052 non-null  object\n",
            " 3   content  87052 non-null  object\n",
            "dtypes: int64(1), object(3)\n",
            "memory usage: 3.3+ MB\n"
          ]
        }
      ]
    },
    {
      "cell_type": "code",
      "source": [
        "def split_text(text):\n",
        "  text = text.replace(' ', '').replace('\\n','').replace('\\r','')\n",
        "  text2 = jieba.cut(text)\n",
        "  result = ' '.join([w for w in text2 if w not in stopwords])#以停止词为参考拆分文章\n",
        "  return result\n",
        "\n",
        "temp = df.iloc[0].content\n",
        "temp\n",
        "split_text(temp)\n"
      ],
      "metadata": {
        "colab": {
          "base_uri": "https://localhost:8080/",
          "height": 53
        },
        "id": "04ETEpWzdaeS",
        "outputId": "72b05f8d-62a9-48c0-8734-b69e313349e8"
      },
      "execution_count": 554,
      "outputs": [
        {
          "output_type": "execute_result",
          "data": {
            "text/plain": [
              "'本周 （ 月 12 日 ） 小米 手机 15 款 机型 外 机型 暂停 更新 发布 （ 含 开发 版 / 体验版 内测 稳定版 暂不受 影响 ） 确保 工程师 集中 精力 进行 系统优化 工作 有人 猜测 精力 主要 用到 MIUI9 研发 之中 MIUI8 去年 月 发布 距今已有 一年 有余 更新换代 MIUI9 确切 信息 等待 官方消息'"
            ],
            "application/vnd.google.colaboratory.intrinsic+json": {
              "type": "string"
            }
          },
          "metadata": {},
          "execution_count": 554
        }
      ]
    },
    {
      "cell_type": "code",
      "source": [
        "# 假如路径存在，则直接读取，否则进行分词，并保存到本地\n",
        "if os.path.exists('corpus.pkl'):\n",
        "    with open('corpus.pkl', 'rb') as file:\n",
        "        corpus = pickle.load(file)\n",
        "else:\n",
        "    corpus = df['content'].map(split_text)\n",
        "    # 保存到本地，方便下次读取\n",
        "    with open('corpus.pkl', 'wb') as file:\n",
        "        pickle.dump(corpus, file)"
      ],
      "metadata": {
        "id": "LrY_UgIfeY1t"
      },
      "execution_count": 555,
      "outputs": []
    },
    {
      "cell_type": "code",
      "source": [
        "len(set(corpus[0].split()))#文章中不重复的单词的数量"
      ],
      "metadata": {
        "colab": {
          "base_uri": "https://localhost:8080/"
        },
        "id": "eiVnCyPbejTe",
        "outputId": "6325474e-e5cf-4038-82d3-73babcb457fc"
      },
      "execution_count": 556,
      "outputs": [
        {
          "output_type": "execute_result",
          "data": {
            "text/plain": [
              "48"
            ]
          },
          "metadata": {},
          "execution_count": 556
        }
      ]
    },
    {
      "cell_type": "code",
      "source": [
        "corpus"
      ],
      "metadata": {
        "colab": {
          "base_uri": "https://localhost:8080/"
        },
        "id": "7-0xKpVHfYwi",
        "outputId": "d196b5e7-e015-4926-dfbf-6f9f3237e112"
      },
      "execution_count": 557,
      "outputs": [
        {
          "output_type": "execute_result",
          "data": {
            "text/plain": [
              "0        本周 （ 月 12 日 ） 小米 手机 15 款 机型 外 机型 暂停 更新 发布 （ 含 ...\n",
              "1        骁龙 835 唯一 Windows10 桌面 平台 认证 ARM 处理器 高通 强调 不会 ...\n",
              "2        此前 一加 3T 搭载 3400mAh 电池 DashCharge 快充 规格 5V / 4...\n",
              "3        这是 月 18 日 葡萄牙 中部 佩德罗 冈 地区 拍摄 森林 大火 烧毁 汽车 新华社 记...\n",
              "4        （ 原 标题 44 岁 女子 跑 深圳 约会 网友 拒 暴雨 中 裸身 奔走 … … ） @...\n",
              "                               ...                        \n",
              "89606    新华社 照片 多伦多 2017 年 月 日 \\ n （ 体育 ） （ ） 冰球 — — 国家...\n",
              "89607    新华社 兰州 月 日电 （ 王衡 徐丹 ） 记者 甘肃省 交通运输 厅 获悉 甘肃 近日 集...\n",
              "89608    \\ n \\ n2017 年 月 29 日 法国巴黎 郊外 凡尔赛宫 法国 总统 马克 龙 出...\n",
              "89609    \\ n \\ n2017 年 月 25 日 美国 马萨诸塞州 剑桥市 哈佛大学 毕业生 毕业典...\n",
              "89610    　 　 新华社 德国 杜塞尔多夫 ６ 月 ６ 日电 题 乒乓 女球迷 　 \\ n 　 　 新...\n",
              "Name: content, Length: 87052, dtype: object"
            ]
          },
          "metadata": {},
          "execution_count": 557
        }
      ]
    },
    {
      "cell_type": "code",
      "source": [
        "countvectorizer = CountVectorizer(encoding='utf-8',min_df=0.015)\n",
        "countvector = countvectorizer.fit_transform(corpus)\n",
        "countvector.shape\n",
        "print(countvector[:1])"
      ],
      "metadata": {
        "colab": {
          "base_uri": "https://localhost:8080/"
        },
        "id": "A41IVGH_ffcR",
        "outputId": "3d41d35c-e41a-4ac4-eaaf-757077c337d3"
      },
      "execution_count": 558,
      "outputs": [
        {
          "output_type": "stream",
          "name": "stdout",
          "text": [
            "  (0, 3)\t1\n",
            "  (0, 449)\t1\n",
            "  (0, 6)\t1\n",
            "  (0, 265)\t2\n",
            "  (0, 407)\t1\n",
            "  (0, 422)\t1\n",
            "  (0, 648)\t1\n",
            "  (0, 831)\t1\n",
            "  (0, 797)\t1\n",
            "  (0, 376)\t1\n",
            "  (0, 105)\t1\n",
            "  (0, 646)\t1\n",
            "  (0, 257)\t1\n",
            "  (0, 49)\t1\n",
            "  (0, 171)\t1\n"
          ]
        }
      ]
    },
    {
      "cell_type": "code",
      "source": [
        "countvector_arr = countvector.toarray()#各个词语在文章中出现的次数\n",
        "countvector_arr.shape"
      ],
      "metadata": {
        "colab": {
          "base_uri": "https://localhost:8080/"
        },
        "id": "ii2fAqYAgUWv",
        "outputId": "451331db-6b4f-4be9-eb6b-1ba3ea445994"
      },
      "execution_count": 559,
      "outputs": [
        {
          "output_type": "execute_result",
          "data": {
            "text/plain": [
              "(87052, 855)"
            ]
          },
          "metadata": {},
          "execution_count": 559
        }
      ]
    },
    {
      "cell_type": "code",
      "source": [
        "words_indices = countvectorizer.vocabulary_\n",
        "len(words_indices)\n",
        "list(words_indices.items())[:4]\n",
        "words_indices = sorted(words_indices.items(),key=lambda x: x[1], reverse=False)\n",
        "words_indices[-5:]\n"
      ],
      "metadata": {
        "id": "Zbut-Mtfhta9",
        "colab": {
          "base_uri": "https://localhost:8080/"
        },
        "outputId": "cee40bcb-ee7e-48b5-a523-0b0fd73f5978"
      },
      "execution_count": 560,
      "outputs": [
        {
          "output_type": "execute_result",
          "data": {
            "text/plain": [
              "[('首次', 850), ('首轮', 851), ('首都', 852), ('香港', 853), ('鼓励', 854)]"
            ]
          },
          "metadata": {},
          "execution_count": 560
        }
      ]
    },
    {
      "cell_type": "code",
      "source": [
        "feature_names = countvectorizer.get_feature_names_out()#关键词列表\n",
        "print(feature_names[:5])\n",
        "stop_wds = countvectorizer.stop_words_\n",
        "print(list(stop_wds)[:5])"
      ],
      "metadata": {
        "colab": {
          "base_uri": "https://localhost:8080/"
        },
        "id": "n0e0RAjgnMtz",
        "outputId": "1ec3f6db-01f1-46c9-e3d2-4d42b8e73895"
      },
      "execution_count": 561,
      "outputs": [
        {
          "output_type": "stream",
          "name": "stdout",
          "text": [
            "['10' '100' '11' '12' '13']\n",
            "['空客', '李豪岩', '产奶量', '抬丧歌', '替人着想']\n"
          ]
        }
      ]
    },
    {
      "cell_type": "code",
      "source": [
        "tfidftransformer = TfidfTransformer()\n",
        "tfidf = tfidftransformer.fit_transform(countvector)\n",
        "print(tfidf[0])"
      ],
      "metadata": {
        "colab": {
          "base_uri": "https://localhost:8080/"
        },
        "id": "LlRH8-hPoiWm",
        "outputId": "87c5494d-8326-4de0-93fc-a7413da53b31"
      },
      "execution_count": 562,
      "outputs": [
        {
          "output_type": "stream",
          "name": "stdout",
          "text": [
            "  (0, 831)\t0.27224738970811185\n",
            "  (0, 797)\t0.1535479708591252\n",
            "  (0, 648)\t0.27197992426463447\n",
            "  (0, 646)\t0.28822734916018905\n",
            "  (0, 449)\t0.29304853186362373\n",
            "  (0, 422)\t0.22131702185602292\n",
            "  (0, 407)\t0.26833438115163655\n",
            "  (0, 376)\t0.1883631082306349\n",
            "  (0, 265)\t0.4393830778179688\n",
            "  (0, 257)\t0.23334186190460163\n",
            "  (0, 171)\t0.23884389263545713\n",
            "  (0, 105)\t0.20471339371863817\n",
            "  (0, 49)\t0.26702123831020386\n",
            "  (0, 6)\t0.21060763927727227\n",
            "  (0, 3)\t0.20198469485745432\n"
          ]
        }
      ]
    },
    {
      "cell_type": "code",
      "source": [
        "tfidftransformer.idf_[:5]"
      ],
      "metadata": {
        "colab": {
          "base_uri": "https://localhost:8080/"
        },
        "id": "X19GOO19o5gc",
        "outputId": "634f58d5-b790-4087-838a-a78450bff6da"
      },
      "execution_count": 563,
      "outputs": [
        {
          "output_type": "execute_result",
          "data": {
            "text/plain": [
              "array([3.22548834, 4.52300041, 3.49021635, 3.48331119, 3.66596311])"
            ]
          },
          "metadata": {},
          "execution_count": 563
        }
      ]
    },
    {
      "cell_type": "code",
      "source": [
        "df['source'].value_counts()\n",
        "label = df['source'].copy()\n",
        "label.str.contains('新华').sum()\n",
        "target = label.str.contains('新华') * 1"
      ],
      "metadata": {
        "id": "JjkSVnjXuiAK"
      },
      "execution_count": 565,
      "outputs": []
    },
    {
      "cell_type": "code",
      "source": [
        "from sklearn.model_selection import train_test_split\n",
        "x_train,x_test,y_train,y_test = train_test_split(tfidf.toarray(),target,test_size=0.2)\n",
        "x_train.shape,x_test.shape,y_train.shape,y_test.shape"
      ],
      "metadata": {
        "colab": {
          "base_uri": "https://localhost:8080/"
        },
        "id": "_KNgBHR_pHEp",
        "outputId": "a786d284-54e0-4b20-eeea-d85492d3db73"
      },
      "execution_count": 566,
      "outputs": [
        {
          "output_type": "execute_result",
          "data": {
            "text/plain": [
              "((69641, 855), (17411, 855), (69641,), (17411,))"
            ]
          },
          "metadata": {},
          "execution_count": 566
        }
      ]
    },
    {
      "cell_type": "code",
      "source": [
        "from sklearn.naive_bayes import MultinomialNB\n",
        "from sklearn.feature_extraction.text import TfidfTransformer\n",
        "estimator = MultinomialNB()\n",
        "estimator.fit(x_train,y_train)"
      ],
      "metadata": {
        "colab": {
          "base_uri": "https://localhost:8080/",
          "height": 74
        },
        "id": "VCrauXq4vUWi",
        "outputId": "825a7f5c-1201-4831-bf61-2814515fa4b7"
      },
      "execution_count": 567,
      "outputs": [
        {
          "output_type": "execute_result",
          "data": {
            "text/plain": [
              "MultinomialNB()"
            ],
            "text/html": [
              "<style>#sk-container-id-20 {color: black;background-color: white;}#sk-container-id-20 pre{padding: 0;}#sk-container-id-20 div.sk-toggleable {background-color: white;}#sk-container-id-20 label.sk-toggleable__label {cursor: pointer;display: block;width: 100%;margin-bottom: 0;padding: 0.3em;box-sizing: border-box;text-align: center;}#sk-container-id-20 label.sk-toggleable__label-arrow:before {content: \"▸\";float: left;margin-right: 0.25em;color: #696969;}#sk-container-id-20 label.sk-toggleable__label-arrow:hover:before {color: black;}#sk-container-id-20 div.sk-estimator:hover label.sk-toggleable__label-arrow:before {color: black;}#sk-container-id-20 div.sk-toggleable__content {max-height: 0;max-width: 0;overflow: hidden;text-align: left;background-color: #f0f8ff;}#sk-container-id-20 div.sk-toggleable__content pre {margin: 0.2em;color: black;border-radius: 0.25em;background-color: #f0f8ff;}#sk-container-id-20 input.sk-toggleable__control:checked~div.sk-toggleable__content {max-height: 200px;max-width: 100%;overflow: auto;}#sk-container-id-20 input.sk-toggleable__control:checked~label.sk-toggleable__label-arrow:before {content: \"▾\";}#sk-container-id-20 div.sk-estimator input.sk-toggleable__control:checked~label.sk-toggleable__label {background-color: #d4ebff;}#sk-container-id-20 div.sk-label input.sk-toggleable__control:checked~label.sk-toggleable__label {background-color: #d4ebff;}#sk-container-id-20 input.sk-hidden--visually {border: 0;clip: rect(1px 1px 1px 1px);clip: rect(1px, 1px, 1px, 1px);height: 1px;margin: -1px;overflow: hidden;padding: 0;position: absolute;width: 1px;}#sk-container-id-20 div.sk-estimator {font-family: monospace;background-color: #f0f8ff;border: 1px dotted black;border-radius: 0.25em;box-sizing: border-box;margin-bottom: 0.5em;}#sk-container-id-20 div.sk-estimator:hover {background-color: #d4ebff;}#sk-container-id-20 div.sk-parallel-item::after {content: \"\";width: 100%;border-bottom: 1px solid gray;flex-grow: 1;}#sk-container-id-20 div.sk-label:hover label.sk-toggleable__label {background-color: #d4ebff;}#sk-container-id-20 div.sk-serial::before {content: \"\";position: absolute;border-left: 1px solid gray;box-sizing: border-box;top: 0;bottom: 0;left: 50%;z-index: 0;}#sk-container-id-20 div.sk-serial {display: flex;flex-direction: column;align-items: center;background-color: white;padding-right: 0.2em;padding-left: 0.2em;position: relative;}#sk-container-id-20 div.sk-item {position: relative;z-index: 1;}#sk-container-id-20 div.sk-parallel {display: flex;align-items: stretch;justify-content: center;background-color: white;position: relative;}#sk-container-id-20 div.sk-item::before, #sk-container-id-20 div.sk-parallel-item::before {content: \"\";position: absolute;border-left: 1px solid gray;box-sizing: border-box;top: 0;bottom: 0;left: 50%;z-index: -1;}#sk-container-id-20 div.sk-parallel-item {display: flex;flex-direction: column;z-index: 1;position: relative;background-color: white;}#sk-container-id-20 div.sk-parallel-item:first-child::after {align-self: flex-end;width: 50%;}#sk-container-id-20 div.sk-parallel-item:last-child::after {align-self: flex-start;width: 50%;}#sk-container-id-20 div.sk-parallel-item:only-child::after {width: 0;}#sk-container-id-20 div.sk-dashed-wrapped {border: 1px dashed gray;margin: 0 0.4em 0.5em 0.4em;box-sizing: border-box;padding-bottom: 0.4em;background-color: white;}#sk-container-id-20 div.sk-label label {font-family: monospace;font-weight: bold;display: inline-block;line-height: 1.2em;}#sk-container-id-20 div.sk-label-container {text-align: center;}#sk-container-id-20 div.sk-container {/* jupyter's `normalize.less` sets `[hidden] { display: none; }` but bootstrap.min.css set `[hidden] { display: none !important; }` so we also need the `!important` here to be able to override the default hidden behavior on the sphinx rendered scikit-learn.org. See: https://github.com/scikit-learn/scikit-learn/issues/21755 */display: inline-block !important;position: relative;}#sk-container-id-20 div.sk-text-repr-fallback {display: none;}</style><div id=\"sk-container-id-20\" class=\"sk-top-container\"><div class=\"sk-text-repr-fallback\"><pre>MultinomialNB()</pre><b>In a Jupyter environment, please rerun this cell to show the HTML representation or trust the notebook. <br />On GitHub, the HTML representation is unable to render, please try loading this page with nbviewer.org.</b></div><div class=\"sk-container\" hidden><div class=\"sk-item\"><div class=\"sk-estimator sk-toggleable\"><input class=\"sk-toggleable__control sk-hidden--visually\" id=\"sk-estimator-id-20\" type=\"checkbox\" checked><label for=\"sk-estimator-id-20\" class=\"sk-toggleable__label sk-toggleable__label-arrow\">MultinomialNB</label><div class=\"sk-toggleable__content\"><pre>MultinomialNB()</pre></div></div></div></div></div>"
            ]
          },
          "metadata": {},
          "execution_count": 567
        }
      ]
    },
    {
      "cell_type": "code",
      "source": [
        "y_pred = estimator.predict(x_test)\n",
        "print(classification_report(y_test,y_pred,labels=[0,1],target_names=['others','新华']))"
      ],
      "metadata": {
        "colab": {
          "base_uri": "https://localhost:8080/"
        },
        "id": "-1uqsbh2vHm9",
        "outputId": "c75bcba5-f7c8-4793-8919-c4736603c998"
      },
      "execution_count": 572,
      "outputs": [
        {
          "output_type": "stream",
          "name": "stdout",
          "text": [
            "              precision    recall  f1-score   support\n",
            "\n",
            "      others       0.42      0.64      0.50      1659\n",
            "          新华       0.96      0.91      0.93     15752\n",
            "\n",
            "    accuracy                           0.88     17411\n",
            "   macro avg       0.69      0.77      0.72     17411\n",
            "weighted avg       0.91      0.88      0.89     17411\n",
            "\n"
          ]
        }
      ]
    },
    {
      "cell_type": "code",
      "source": [
        "from sklearn.metrics import roc_curve, auc\n",
        "import matplotlib.pyplot as plt\n",
        "\n",
        "y_probs = estimator.predict_proba(x_test)               #模型的预测得分\n",
        "fpr, tpr, thresholds = roc_curve(y_test,y_pred, pos_label=None, sample_weight=None, drop_intermediate=True)\n",
        "roc_auc = auc(fpr, tpr)                                     #auc为Roc曲线下的面积\n",
        "#开始画ROC曲线\n",
        "plt.plot(fpr, tpr, 'b',label='AUC = %0.2f'% roc_auc)\n",
        "plt.legend(loc='lower right')\n",
        "plt.plot([0,1],[0,1],'r--')\n",
        "plt.xlim([-0.1,1.1])\n",
        "plt.ylim([-0.1,1.1])\n",
        "plt.xlabel('False Positive Rate')                            #横坐标是fpr\n",
        "plt.ylabel('True Positive Rate')                             #纵坐标是tpr\n",
        "plt.title('Receiver operating characteristic example')\n",
        "plt.show()"
      ],
      "metadata": {
        "colab": {
          "base_uri": "https://localhost:8080/",
          "height": 472
        },
        "id": "r-kC3PYFvHek",
        "outputId": "b5e77b7d-d033-41a5-e00f-c021d9f53362"
      },
      "execution_count": 573,
      "outputs": [
        {
          "output_type": "display_data",
          "data": {
            "text/plain": [
              "<Figure size 640x480 with 1 Axes>"
            ],
            "image/png": "[encoded data removed]"
          },
          "metadata": {}
        }
      ]
    },
    {
      "cell_type": "code",
      "source": [],
      "metadata": {
        "id": "HVHoL7QP7Jw9"
      },
      "execution_count": null,
      "outputs": []
    }
  ]
}